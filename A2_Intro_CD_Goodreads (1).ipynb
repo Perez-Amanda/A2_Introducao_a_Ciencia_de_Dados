{
 "cells": [
  {
   "cell_type": "markdown",
   "metadata": {},
   "source": [
    "# A2 - Introdução à Ciência de Dados\n",
    "## Análise Exploratória de Dados em Python"
   ]
  },
  {
   "cell_type": "markdown",
   "metadata": {},
   "source": [
    ">#### Grupo:\n",
    ">Amanda de Mendonça Perez - 211708002\n",
    ">\n",
    ">Douglas Arthur Almeida Hancock - 211708039\n",
    ">\n",
    ">Luigi Von Blücher Mezzogori - 202708901\n",
    ">\n",
    ">Pablo"
   ]
  },
  {
   "cell_type": "markdown",
   "metadata": {},
   "source": [
    "Inicialmente, importando as bibliotecas e a base de dados utilizadas:"
   ]
  },
  {
   "cell_type": "code",
   "execution_count": 12,
   "metadata": {},
   "outputs": [
    {
     "data": {
      "text/html": [
       "<div>\n",
       "<style scoped>\n",
       "    .dataframe tbody tr th:only-of-type {\n",
       "        vertical-align: middle;\n",
       "    }\n",
       "\n",
       "    .dataframe tbody tr th {\n",
       "        vertical-align: top;\n",
       "    }\n",
       "\n",
       "    .dataframe thead th {\n",
       "        text-align: right;\n",
       "    }\n",
       "</style>\n",
       "<table border=\"1\" class=\"dataframe\">\n",
       "  <thead>\n",
       "    <tr style=\"text-align: right;\">\n",
       "      <th></th>\n",
       "      <th>author</th>\n",
       "      <th>bookformat</th>\n",
       "      <th>desc</th>\n",
       "      <th>genre</th>\n",
       "      <th>img</th>\n",
       "      <th>isbn</th>\n",
       "      <th>isbn13</th>\n",
       "      <th>link</th>\n",
       "      <th>pages</th>\n",
       "      <th>rating</th>\n",
       "      <th>reviews</th>\n",
       "      <th>title</th>\n",
       "      <th>totalratings</th>\n",
       "    </tr>\n",
       "  </thead>\n",
       "  <tbody>\n",
       "    <tr>\n",
       "      <th>0</th>\n",
       "      <td>Laurence M. Hauptman</td>\n",
       "      <td>Hardcover</td>\n",
       "      <td>Reveals that several hundred thousand Indians ...</td>\n",
       "      <td>History,Military History,Civil War,American Hi...</td>\n",
       "      <td>https://i.gr-assets.com/images/S/compressed.ph...</td>\n",
       "      <td>002914180X</td>\n",
       "      <td>9.78E+12</td>\n",
       "      <td>https://goodreads.com/book/show/1001053.Betwee...</td>\n",
       "      <td>0</td>\n",
       "      <td>3.52</td>\n",
       "      <td>5</td>\n",
       "      <td>Between Two Fires: American Indians in the Civ...</td>\n",
       "      <td>33</td>\n",
       "    </tr>\n",
       "    <tr>\n",
       "      <th>1</th>\n",
       "      <td>Charlotte Fiell,Emmanuelle Dirix</td>\n",
       "      <td>Paperback</td>\n",
       "      <td>Fashion Sourcebook - 1920s is the first book i...</td>\n",
       "      <td>Couture,Fashion,Historical,Art,Nonfiction</td>\n",
       "      <td>https://i.gr-assets.com/images/S/compressed.ph...</td>\n",
       "      <td>1906863482</td>\n",
       "      <td>9.78E+12</td>\n",
       "      <td>https://goodreads.com/book/show/10010552-fashi...</td>\n",
       "      <td>576</td>\n",
       "      <td>4.51</td>\n",
       "      <td>6</td>\n",
       "      <td>Fashion Sourcebook 1920s</td>\n",
       "      <td>41</td>\n",
       "    </tr>\n",
       "    <tr>\n",
       "      <th>2</th>\n",
       "      <td>Andy Anderson</td>\n",
       "      <td>Paperback</td>\n",
       "      <td>The seminal history and analysis of the Hungar...</td>\n",
       "      <td>Politics,History</td>\n",
       "      <td>https://i.gr-assets.com/images/S/compressed.ph...</td>\n",
       "      <td>948984147</td>\n",
       "      <td>9.78E+12</td>\n",
       "      <td>https://goodreads.com/book/show/1001077.Hungar...</td>\n",
       "      <td>124</td>\n",
       "      <td>4.15</td>\n",
       "      <td>2</td>\n",
       "      <td>Hungary 56</td>\n",
       "      <td>26</td>\n",
       "    </tr>\n",
       "    <tr>\n",
       "      <th>3</th>\n",
       "      <td>Carlotta R. Anderson</td>\n",
       "      <td>Hardcover</td>\n",
       "      <td>\"All-American Anarchist\" chronicles the life a...</td>\n",
       "      <td>Labor,History</td>\n",
       "      <td>https://i.gr-assets.com/images/S/compressed.ph...</td>\n",
       "      <td>814327079</td>\n",
       "      <td>9.78E+12</td>\n",
       "      <td>https://goodreads.com/book/show/1001079.All_Am...</td>\n",
       "      <td>324</td>\n",
       "      <td>3.83</td>\n",
       "      <td>1</td>\n",
       "      <td>All-American Anarchist: Joseph A. Labadie and ...</td>\n",
       "      <td>6</td>\n",
       "    </tr>\n",
       "    <tr>\n",
       "      <th>4</th>\n",
       "      <td>Jean Leveille</td>\n",
       "      <td>NaN</td>\n",
       "      <td>Aujourdâ€™hui, lâ€™oiseau nous invite Ã  sa ta...</td>\n",
       "      <td>NaN</td>\n",
       "      <td>https://i.gr-assets.com/images/S/compressed.ph...</td>\n",
       "      <td>2761920813</td>\n",
       "      <td>NaN</td>\n",
       "      <td>https://goodreads.com/book/show/10010880-les-o...</td>\n",
       "      <td>177</td>\n",
       "      <td>4.00</td>\n",
       "      <td>1</td>\n",
       "      <td>Les oiseaux gourmands</td>\n",
       "      <td>1</td>\n",
       "    </tr>\n",
       "  </tbody>\n",
       "</table>\n",
       "</div>"
      ],
      "text/plain": [
       "                             author bookformat  \\\n",
       "0              Laurence M. Hauptman  Hardcover   \n",
       "1  Charlotte Fiell,Emmanuelle Dirix  Paperback   \n",
       "2                     Andy Anderson  Paperback   \n",
       "3              Carlotta R. Anderson  Hardcover   \n",
       "4                     Jean Leveille        NaN   \n",
       "\n",
       "                                                desc  \\\n",
       "0  Reveals that several hundred thousand Indians ...   \n",
       "1  Fashion Sourcebook - 1920s is the first book i...   \n",
       "2  The seminal history and analysis of the Hungar...   \n",
       "3  \"All-American Anarchist\" chronicles the life a...   \n",
       "4  Aujourdâ€™hui, lâ€™oiseau nous invite Ã  sa ta...   \n",
       "\n",
       "                                               genre  \\\n",
       "0  History,Military History,Civil War,American Hi...   \n",
       "1          Couture,Fashion,Historical,Art,Nonfiction   \n",
       "2                                   Politics,History   \n",
       "3                                      Labor,History   \n",
       "4                                                NaN   \n",
       "\n",
       "                                                 img        isbn    isbn13  \\\n",
       "0  https://i.gr-assets.com/images/S/compressed.ph...  002914180X  9.78E+12   \n",
       "1  https://i.gr-assets.com/images/S/compressed.ph...  1906863482  9.78E+12   \n",
       "2  https://i.gr-assets.com/images/S/compressed.ph...   948984147  9.78E+12   \n",
       "3  https://i.gr-assets.com/images/S/compressed.ph...   814327079  9.78E+12   \n",
       "4  https://i.gr-assets.com/images/S/compressed.ph...  2761920813       NaN   \n",
       "\n",
       "                                                link  pages  rating  reviews  \\\n",
       "0  https://goodreads.com/book/show/1001053.Betwee...      0    3.52        5   \n",
       "1  https://goodreads.com/book/show/10010552-fashi...    576    4.51        6   \n",
       "2  https://goodreads.com/book/show/1001077.Hungar...    124    4.15        2   \n",
       "3  https://goodreads.com/book/show/1001079.All_Am...    324    3.83        1   \n",
       "4  https://goodreads.com/book/show/10010880-les-o...    177    4.00        1   \n",
       "\n",
       "                                               title  totalratings  \n",
       "0  Between Two Fires: American Indians in the Civ...            33  \n",
       "1                           Fashion Sourcebook 1920s            41  \n",
       "2                                         Hungary 56            26  \n",
       "3  All-American Anarchist: Joseph A. Labadie and ...             6  \n",
       "4                              Les oiseaux gourmands             1  "
      ]
     },
     "execution_count": 12,
     "metadata": {},
     "output_type": "execute_result"
    }
   ],
   "source": [
    "import pandas as pd\n",
    "import numpy as np\n",
    "import matplotlib.pyplot as plt\n",
    "import seaborn as sns\n",
    "\n",
    "\n",
    "\n",
    "livros = pd.read_csv('./Dados/GoodReads_100k_books.csv', encoding='utf-8')\n",
    "livros.head()"
   ]
  },
  {
   "cell_type": "markdown",
   "metadata": {},
   "source": [
    "Pode-se notar que a base em questão possui informações que não são tão irrelevantes para nossa análise (como o link do Goodreads para o livro), sendo interessante selecionar as colunas mais relevantes:"
   ]
  },
  {
   "cell_type": "code",
   "execution_count": 13,
   "metadata": {},
   "outputs": [
    {
     "data": {
      "text/html": [
       "<div>\n",
       "<style scoped>\n",
       "    .dataframe tbody tr th:only-of-type {\n",
       "        vertical-align: middle;\n",
       "    }\n",
       "\n",
       "    .dataframe tbody tr th {\n",
       "        vertical-align: top;\n",
       "    }\n",
       "\n",
       "    .dataframe thead th {\n",
       "        text-align: right;\n",
       "    }\n",
       "</style>\n",
       "<table border=\"1\" class=\"dataframe\">\n",
       "  <thead>\n",
       "    <tr style=\"text-align: right;\">\n",
       "      <th></th>\n",
       "      <th>title</th>\n",
       "      <th>author</th>\n",
       "      <th>bookformat</th>\n",
       "      <th>genre</th>\n",
       "      <th>pages</th>\n",
       "      <th>rating</th>\n",
       "      <th>reviews</th>\n",
       "      <th>totalratings</th>\n",
       "    </tr>\n",
       "  </thead>\n",
       "  <tbody>\n",
       "    <tr>\n",
       "      <th>0</th>\n",
       "      <td>Between Two Fires: American Indians in the Civ...</td>\n",
       "      <td>Laurence M. Hauptman</td>\n",
       "      <td>Hardcover</td>\n",
       "      <td>History,Military History,Civil War,American Hi...</td>\n",
       "      <td>0</td>\n",
       "      <td>3.52</td>\n",
       "      <td>5</td>\n",
       "      <td>33</td>\n",
       "    </tr>\n",
       "    <tr>\n",
       "      <th>1</th>\n",
       "      <td>Fashion Sourcebook 1920s</td>\n",
       "      <td>Charlotte Fiell,Emmanuelle Dirix</td>\n",
       "      <td>Paperback</td>\n",
       "      <td>Couture,Fashion,Historical,Art,Nonfiction</td>\n",
       "      <td>576</td>\n",
       "      <td>4.51</td>\n",
       "      <td>6</td>\n",
       "      <td>41</td>\n",
       "    </tr>\n",
       "    <tr>\n",
       "      <th>2</th>\n",
       "      <td>Hungary 56</td>\n",
       "      <td>Andy Anderson</td>\n",
       "      <td>Paperback</td>\n",
       "      <td>Politics,History</td>\n",
       "      <td>124</td>\n",
       "      <td>4.15</td>\n",
       "      <td>2</td>\n",
       "      <td>26</td>\n",
       "    </tr>\n",
       "    <tr>\n",
       "      <th>3</th>\n",
       "      <td>All-American Anarchist: Joseph A. Labadie and ...</td>\n",
       "      <td>Carlotta R. Anderson</td>\n",
       "      <td>Hardcover</td>\n",
       "      <td>Labor,History</td>\n",
       "      <td>324</td>\n",
       "      <td>3.83</td>\n",
       "      <td>1</td>\n",
       "      <td>6</td>\n",
       "    </tr>\n",
       "    <tr>\n",
       "      <th>4</th>\n",
       "      <td>Les oiseaux gourmands</td>\n",
       "      <td>Jean Leveille</td>\n",
       "      <td>NaN</td>\n",
       "      <td>NaN</td>\n",
       "      <td>177</td>\n",
       "      <td>4.00</td>\n",
       "      <td>1</td>\n",
       "      <td>1</td>\n",
       "    </tr>\n",
       "  </tbody>\n",
       "</table>\n",
       "</div>"
      ],
      "text/plain": [
       "                                               title  \\\n",
       "0  Between Two Fires: American Indians in the Civ...   \n",
       "1                           Fashion Sourcebook 1920s   \n",
       "2                                         Hungary 56   \n",
       "3  All-American Anarchist: Joseph A. Labadie and ...   \n",
       "4                              Les oiseaux gourmands   \n",
       "\n",
       "                             author bookformat  \\\n",
       "0              Laurence M. Hauptman  Hardcover   \n",
       "1  Charlotte Fiell,Emmanuelle Dirix  Paperback   \n",
       "2                     Andy Anderson  Paperback   \n",
       "3              Carlotta R. Anderson  Hardcover   \n",
       "4                     Jean Leveille        NaN   \n",
       "\n",
       "                                               genre  pages  rating  reviews  \\\n",
       "0  History,Military History,Civil War,American Hi...      0    3.52        5   \n",
       "1          Couture,Fashion,Historical,Art,Nonfiction    576    4.51        6   \n",
       "2                                   Politics,History    124    4.15        2   \n",
       "3                                      Labor,History    324    3.83        1   \n",
       "4                                                NaN    177    4.00        1   \n",
       "\n",
       "   totalratings  \n",
       "0            33  \n",
       "1            41  \n",
       "2            26  \n",
       "3             6  \n",
       "4             1  "
      ]
     },
     "execution_count": 13,
     "metadata": {},
     "output_type": "execute_result"
    }
   ],
   "source": [
    "# Selecionando as colunas de interesse:\n",
    "lista_colunas = ['title', 'author', 'bookformat', 'genre', 'pages', 'rating', 'reviews', 'totalratings']\n",
    "\n",
    "livros = livros[lista_colunas]\n",
    "livros.head()"
   ]
  },
  {
   "cell_type": "markdown",
   "metadata": {},
   "source": [
    "Com a base mais limpa, foi utilizado um histograma para visualizar melhor a distribuição das médias de avaliações (`rating`):"
   ]
  },
  {
   "cell_type": "code",
   "execution_count": 17,
   "metadata": {},
   "outputs": [
    {
     "data": {
      "image/png": "[encoded data removed]",
      "text/plain": [
       "<Figure size 864x576 with 1 Axes>"
      ]
     },
     "metadata": {
      "needs_background": "light"
     },
     "output_type": "display_data"
    }
   ],
   "source": [
    "plt.figure(figsize=(12,8))\n",
    "plt.hist(livros['rating'], density=False, bins=50)\n",
    "plt.ylabel('Frequência')\n",
    "plt.xlabel('Média de avaliações')\n",
    "plt.title('Histograma das avaliações dos livros', fontsize=16)\n",
    "plt.show()"
   ]
  },
  {
   "cell_type": "markdown",
   "metadata": {},
   "source": [
    "Nota-se que as notas estão mais concentradas em valores mais altos, especialmente entre 3 e 5. \n",
    "\n",
    "A partir dessa observação, podemos analisar o comportamento específico dessas médias em diferentes categorias de interesse, como o \"formato\" do livro (`bookformat`), isto é, se ele é de capa dura, brochura, ebook etc. Listando os formatos mais recorrentes e suas respectivas frequências:"
   ]
  },
  {
   "cell_type": "code",
   "execution_count": 18,
   "metadata": {},
   "outputs": [
    {
     "data": {
      "text/plain": [
       "bookformat\n",
       "Paperback                53855\n",
       "Hardcover                27581\n",
       "ebook                     5328\n",
       "Kindle Edition            4569\n",
       "Mass Market Paperback     3024\n",
       "Unknown Binding            449\n",
       "Nook                       395\n",
       "Audio CD                   318\n",
       "Board Book                 164\n",
       "Spiral-bound               137\n",
       "Audiobook                  105\n",
       "Library Binding             69\n",
       "Board book                  65\n",
       "paperback                   38\n",
       "Audio                       35\n",
       "Trade Paperback             34\n",
       "Audio Cassette              29\n",
       "Leather Bound               29\n",
       "Comics                      24\n",
       "Cards                       22\n",
       "Pamphlet                    18\n",
       "hardback                    17\n",
       "Boxed Set                   15\n",
       "paper                       14\n",
       "Taschenbuch                 13\n",
       "Unbound                     13\n",
       "Comic                       12\n",
       "Novelty Book                11\n",
       "Other Format                11\n",
       "Audible Audio               10\n",
       "Name: title, dtype: int64"
      ]
     },
     "execution_count": 18,
     "metadata": {},
     "output_type": "execute_result"
    }
   ],
   "source": [
    "livros4 = livros.groupby('bookformat').count()\n",
    "livros4['title'].nlargest(30)"
   ]
  },
  {
   "cell_type": "markdown",
   "metadata": {},
   "source": [
    "Percebe-se que existem algumas categorias repetidas (por exemplo, \"Board Book\" e \"Board book\"), além de formatos que poderiam ser colocados em uma mesma categoria, como \"ebook\" e \"Kinde Edition\", e outros que não são exatamente livros (\"Cards\", \"Pamphlet\" etc.). Assim, seria relevante reorganizar essa base, juntando formatos iguais em mesmas categorias e não considerando formatos que não são o alvo da análise.\n",
    "\n",
    "Dessa forma, listando todos os formatos presentes no dataset:"
   ]
  },
  {
   "cell_type": "code",
   "execution_count": 19,
   "metadata": {},
   "outputs": [
    {
     "name": "stdout",
     "output_type": "stream",
     "text": [
      "['Hardcover', 'Paperback', nan, 'ebook', 'Audiobook', 'Mass Market Paperback', 'Kindle Edition', 'Textbook', 'Other Format', 'Board Book', 'Nook', 'Turtleback', 'Unknown Binding', 'Board book', 'Hardback', 'Audio CD', 'Audio', 'Spiral-bound', 'Boxed set', 'Boxed Set', 'Diary', 'Online Publication', 'Trade Paperback', 'Novelty Book', 'Audio Cassette', 'Unbound', 'Library Binding', 'Textbook Binding', 'Comic', 'DVD (NTSC)', 'Loose-Leaf', 'MP3 Book', 'Pamphlet', 'Slipcased Hardcover', 'Double book softcover', 'Comics', 'Spiral', \"paper, saddle-stapled 'zine\", 'Broschiert', 'paper', 'Poche', 'MP3 CD', 'Flexibound', 'stitched', 'Free Online Fiction', 'Game', 'Cards', 'BrochÃ©', 'BÃ¬a má»\\x81m', 'Deck of 78 Tarot Cards', 'mass_market', 'Plastic Comb', 'Pasta dura', 'Mass Market', 'æ–‡åº«', 'NOOKstudy eTextbook', 'hardcover', 'Ringbound', 'cassettes', 'Perfect Paperback', 'Livejournal posting', 'Audio Play', 'NOOKmagazine (eMagazine)', 'DVD', 'English scanlation', 'cloth', 'Capa dura', 'Paperback w/ CD', 'Taschenbuch', 'paperback', 'revised edition', 'Audible Audio', 'Online Fiction', 'Leather Bound', 'CD', 'Board Books', 'ã‚³ãƒŸãƒƒã‚¯', 'online', 'Online', 'Free online read', 'Map', 'online fiction (membership/subscription)', 'Boxed Set - Hardcover', 'hand-sewn paper', 'online fiction', 'Paperback Manga', 'Hardcover with hidden spiral', 'Novelty', 'ReliÃ©', 'NOOK Study eTextbook', 'Audiocd', 'Illustrated Book and CD Set', 'Online fiction', 'free online graphic novel', 'Audio Cd', 'Kindle Edition with Audio/Video', 'Paper back', 'CD-ROM', 'Digital Comic', 'Hardcover in dust jacket', 'Capa comum', 'Softcover', 'Mini-Hardcover ', 'Paperback with CD Rom', 'comic book', 'Cloth Hardcover', 'Board', 'perfect', 'free online fiction', 'PDF', 'Looseleaf', 'Online Fiction - Complete', 'Album', 'Hard Cover', 'Pamphlet form', 'Misc. Supplies', 'Book', 'soft cover', 'Comic Book', 'Brossura', 'BÃ¬a cá»©ng', 'Light Novel', 'Hardcover, Slipcased', 'Loose Leaf', 'Gebunden', 'spiral=bound', 'hardback', 'Over-Sized 12\"W x 16\"H Hardcover', 'Pasta blanda', 'Capa Mole', 'Bookpaper', 'pocket', 'Kindle ebook, trade paperback, audiobook', 'Sewn paperback with dust jacket', 'landscape, flexible', '78 Card Tarot Deck', 'Perfect binding', 'Online Edition', 'Audio CD plus 147 page book', 'Kindle ebook', 'Online Comic - Webcomic', 'Webcomic', 'Tarot Deck & Book', 'Sheet music', 'Flash Movie Webcast', 'hardbound, with dust jacket', 'Saddle-stitched paperback', 'Gebundene Ausgabe', 'Hardcover, Paperback', 'Hardback, wire-o bound', 'softcover', '3-ring Binder', 'Deseret Book Company', 'Book, Cards, Crystals', '13 x 19,5', 'Paperback with deck of cards', 'Soft Cover', 'å\\x8d˜è¡Œæœ¬', 'Brochura', 'Bookprint', 'Cloth-bound Hardcover', 'pdf', 'Boxed Collection', 'Perfectbound', 'Paperback and Deluxe Hardcover', 'Tapa flexible con solapas', 'Not a book-cards', 'Ø±Ù‚Ø¹ÛŒ', 'Part-In-Omnibus', 'DVD ', 'Kit', 'Large Print', 'Hardcover ', 'Library', 'brochure', 'Audio Cassette + Book', 'zine', 'Paperback Bunko', 'Online Free Library', 'Zine', 'Serial Blog Posts', 'Tarot Cards & Book', 'periodical', 'Essay', 'webpage', 'Online Comic', 'Online serial', 'APP Exclusive ebook', '14,5x20,5 cm', 'Tarot Deck and Booklet', 'Inbunden', 'Tarot Deck & Booklet', 'Hard cover', 'Webtoon', 'Color & black and white illustrations', '120 x 190 mm', 'Kindle, Nook, Paperback', 'comic', 'Serial Fiction', 'Booklet', 'saddle-stitch', 'Casebound', 'Wattpad']\n"
     ]
    }
   ],
   "source": [
    "lista_formatos = []\n",
    "for i in range (len(livros.bookformat)):\n",
    "    if livros.bookformat[i] not in lista_formatos:\n",
    "        lista_formatos.append(livros.bookformat[i])\n",
    "print(lista_formatos)"
   ]
  },
  {
   "cell_type": "markdown",
   "metadata": {},
   "source": [
    "Recategorizando esses livros em categorias de maior interesse com base nos formatos mais recorrentes e inserindo a informação em uma nova coluna chamada `formatos`:"
   ]
  },
  {
   "cell_type": "code",
   "execution_count": 20,
   "metadata": {},
   "outputs": [],
   "source": [
    "capa_dura = ['hardcover', 'hardback', 'hardbound', 'capa dura', 'hard cover', 'hardcover ', 'cloth hardcover', \\\n",
    "             'hardcover in dust jacket', 'slipcased hardcover', 'mini-hardcover', 'hardbound, with dust jacket']\n",
    "brochura = ['double book softcover','paperback', 'brochure', 'capa comum', 'softcover', 'brochura', 'soft cover', \\\n",
    "            'brossura', 'capa mole']\n",
    "ebook = ['ebook', 'nook','kindle', 'kindle ebook', 'kindle edition', 'pdf']\n",
    "online = ['wattpad', 'online fiction', 'online publication', 'online edition', 'webpage', 'online', 'free online read']\n",
    "encadernacao_biblioteca = ['library binding', 'library']\n",
    "audiobook = ['audiobook', 'audio', 'audio cd', 'mp3 book', 'audiocd']\n",
    "box = ['boxed collection', 'boxed set', 'kit', 'boxed set - hardcover']\n",
    "bolso = ['mass market paperback', 'mass market', 'pocket', 'taschenbuch']\n",
    "papelao = ['boardbook', 'board book', 'board books', 'board']\n",
    "espiral = ['spiral', 'spiral-bound', 'spiral=bound']\n",
    "didatico = ['textbook', 'nook study etextbook', 'nook study etextbook', 'textbook binding']\n",
    "hq = ['comic', 'comicbook', 'online comic', 'comic book', 'webcomic', 'online comic - webcomic']\n",
    "\n",
    "dicio_formatos = {'Capa Dura': capa_dura, 'Brochura': brochura, 'eBook': ebook, 'Online': online, \\\n",
    "                  'Encadernação \\nde biblioteca': encadernacao_biblioteca, 'Audiobook': audiobook, 'Box': box,\\\n",
    "                  'Bolso': bolso, 'Papelão': papelao, 'Espiral': espiral, 'Didático': didatico, 'HQ': hq}\n",
    "\n",
    "for i in range (0, len(livros.bookformat)): \n",
    "    for j in range (0, len(dicio_formatos)):\n",
    "        if str(livros['bookformat'][i]).lower() in list(dicio_formatos.values())[j]:\n",
    "            livros.loc[i, 'formato'] = list(dicio_formatos.keys())[j]"
   ]
  },
  {
   "cell_type": "markdown",
   "metadata": {},
   "source": [
    "Note que nem todos os _bookformats_ foram recategorizados. Ainda assim, ao listar as frequências, percebe-se que relativamente poucos livros não foram recategorizados (apenas cerca de 4.000 dentre os 100.000 contidos no dataset)."
   ]
  },
  {
   "cell_type": "code",
   "execution_count": 21,
   "metadata": {},
   "outputs": [
    {
     "data": {
      "text/plain": [
       "formato\n",
       "Audiobook                         468\n",
       "Bolso                            3046\n",
       "Box                                20\n",
       "Brochura                        53916\n",
       "Capa Dura                       27628\n",
       "Didático                            8\n",
       "Encadernação \\nde biblioteca       71\n",
       "Espiral                           144\n",
       "HQ                                 23\n",
       "Online                             28\n",
       "Papelão                           234\n",
       "eBook                           10295\n",
       "Name: title, dtype: int64"
      ]
     },
     "execution_count": 21,
     "metadata": {},
     "output_type": "execute_result"
    }
   ],
   "source": [
    "livros_por_formato = livros.groupby('formato').count()\n",
    "livros_por_formato['title']"
   ]
  },
  {
   "cell_type": "markdown",
   "metadata": {},
   "source": [
    "Preparando agora esses novos valores para serem plotados em um boxplot:"
   ]
  },
  {
   "cell_type": "code",
   "execution_count": 22,
   "metadata": {},
   "outputs": [],
   "source": [
    "mediana_formatos = pd.DataFrame(livros.groupby('formato').median())\n",
    "ordem_boxplot = mediana_formatos.sort_values(by=\"rating\", ascending= False)"
   ]
  },
  {
   "cell_type": "code",
   "execution_count": 23,
   "metadata": {},
   "outputs": [
    {
     "data": {
      "image/png": "[encoded data removed]",
      "text/plain": [
       "<Figure size 864x576 with 1 Axes>"
      ]
     },
     "metadata": {
      "needs_background": "light"
     },
     "output_type": "display_data"
    }
   ],
   "source": [
    "fig, ax = plt.subplots(figsize=(12,8))\n",
    "sns.boxplot(y=\"formato\", \n",
    "            x=\"rating\", \n",
    "            data=livros, \n",
    "            ax=ax,\n",
    "            order=ordem_boxplot.index.values.tolist(),\n",
    "            palette='pastel')\n",
    "ax.xaxis.grid(True)\n",
    "ax.set(ylabel=\"\", xlabel=\"Média das avaliações\", title = \"Avaliações por formato\")\n",
    "sns.despine(trim=True, left=True)"
   ]
  },
  {
   "cell_type": "markdown",
   "metadata": {},
   "source": [
    "Analisando o gráfico acima, nota-se que as distribuições das notas são bem parecidas entre as diferentes categorias, concentrando-se em notas mais altas, de modo bem semelhante ao que ocorreu no histograma geral da média de avalições. Também se faz perceptível a presença de muitos _outliers_, em especial para as categorias mais frequentes na base (brochura, capa dura, ebook, bolso...), o que parece indicar que não há uma relação muito forte entre o formato do livro e como ele é avaliado pelos leitores. \n",
    "\n",
    "Do gráfico acima, ainda se destaca a categoria de livros didáticos, cujas médias de avaliações aparentam estar mais \"espalhadas\". Contudo, essa diferença de distribuição pode estar relacionada com o fato de existirem apenas 8 itens com esse formato na tabela (uma quantidade quase insignificante em comparação ao total de 100.000)."
   ]
  },
  {
   "cell_type": "code",
   "execution_count": 25,
   "metadata": {},
   "outputs": [
    {
     "data": {
      "text/plain": [
       "Text(16.425000000000004, 0.5, 'Média das avaliações')"
      ]
     },
     "execution_count": 25,
     "metadata": {},
     "output_type": "execute_result"
    },
    {
     "data": {
      "image/png": "[encoded data removed]",
      "text/plain": [
       "<Figure size 504x504 with 1 Axes>"
      ]
     },
     "metadata": {
      "needs_background": "light"
     },
     "output_type": "display_data"
    }
   ],
   "source": [
    "sns.FacetGrid(livros, height=7).map(plt.scatter, \"totalratings\", \"rating\")\n",
    "plt.title (\"Média das avaliações pela quantidade de avaliações\", fontsize=14)\n",
    "plt.xlabel (\"Total de avaliações\")\n",
    "plt.ylabel (\"Média das avaliações\")"
   ]
  },
  {
   "cell_type": "code",
   "execution_count": null,
   "metadata": {},
   "outputs": [],
   "source": []
  }
 ],
 "metadata": {
  "kernelspec": {
   "display_name": "Python 3",
   "language": "python",
   "name": "python3"
  },
  "language_info": {
   "codemirror_mode": {
    "name": "ipython",
    "version": 3
   },
   "file_extension": ".py",
   "mimetype": "text/x-python",
   "name": "python",
   "nbconvert_exporter": "python",
   "pygments_lexer": "ipython3",
   "version": "3.7.6"
  }
 },
 "nbformat": 4,
 "nbformat_minor": 4
}
