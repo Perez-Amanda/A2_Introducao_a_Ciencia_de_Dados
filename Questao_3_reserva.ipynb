{
 "cells": [
  {
   "cell_type": "markdown",
   "metadata": {},
   "source": [
    "# A2 - Introdução à Ciência de Dados\n",
    "## Análise Exploratória de Dados em Python"
   ]
  },
  {
   "cell_type": "markdown",
   "metadata": {},
   "source": [
    ">#### Grupo:\n",
    ">Amanda de Mendonça Perez - 211708002\n",
    ">\n",
    ">Douglas Arthur Almeida Hancock - 211708039\n",
    ">\n",
    ">Luigi Von Blücher Mezzogori - 202708901\n",
    ">\n",
    ">Pablo Julliano Gomes Fontenelle - 211708025"
   ]
  },
  {
   "cell_type": "markdown",
   "metadata": {},
   "source": [
    "Analisando as características dos livros mais populares:"
   ]
  },
  {
   "cell_type": "code",
   "execution_count": 1,
   "metadata": {},
   "outputs": [],
   "source": [
    "import pandas as pd\n",
    "import numpy as np\n",
    "import matplotlib.pyplot as plt\n",
    "import seaborn as sns\n",
    "\n",
    "livros = pd.read_csv('./Dados/GoodReads_100k_books.csv', encoding='utf-8')"
   ]
  },
  {
   "cell_type": "code",
   "execution_count": 2,
   "metadata": {},
   "outputs": [
    {
     "data": {
      "text/html": [
       "<div>\n",
       "<style scoped>\n",
       "    .dataframe tbody tr th:only-of-type {\n",
       "        vertical-align: middle;\n",
       "    }\n",
       "\n",
       "    .dataframe tbody tr th {\n",
       "        vertical-align: top;\n",
       "    }\n",
       "\n",
       "    .dataframe thead th {\n",
       "        text-align: right;\n",
       "    }\n",
       "</style>\n",
       "<table border=\"1\" class=\"dataframe\">\n",
       "  <thead>\n",
       "    <tr style=\"text-align: right;\">\n",
       "      <th></th>\n",
       "      <th>title</th>\n",
       "      <th>author</th>\n",
       "      <th>bookformat</th>\n",
       "      <th>genre</th>\n",
       "      <th>pages</th>\n",
       "      <th>rating</th>\n",
       "      <th>reviews</th>\n",
       "      <th>totalratings</th>\n",
       "    </tr>\n",
       "  </thead>\n",
       "  <tbody>\n",
       "    <tr>\n",
       "      <th>0</th>\n",
       "      <td>Between Two Fires: American Indians in the Civ...</td>\n",
       "      <td>Laurence M. Hauptman</td>\n",
       "      <td>Hardcover</td>\n",
       "      <td>History,Military History,Civil War,American Hi...</td>\n",
       "      <td>0</td>\n",
       "      <td>3.52</td>\n",
       "      <td>5</td>\n",
       "      <td>33</td>\n",
       "    </tr>\n",
       "    <tr>\n",
       "      <th>1</th>\n",
       "      <td>Fashion Sourcebook 1920s</td>\n",
       "      <td>Charlotte Fiell,Emmanuelle Dirix</td>\n",
       "      <td>Paperback</td>\n",
       "      <td>Couture,Fashion,Historical,Art,Nonfiction</td>\n",
       "      <td>576</td>\n",
       "      <td>4.51</td>\n",
       "      <td>6</td>\n",
       "      <td>41</td>\n",
       "    </tr>\n",
       "    <tr>\n",
       "      <th>2</th>\n",
       "      <td>Hungary 56</td>\n",
       "      <td>Andy Anderson</td>\n",
       "      <td>Paperback</td>\n",
       "      <td>Politics,History</td>\n",
       "      <td>124</td>\n",
       "      <td>4.15</td>\n",
       "      <td>2</td>\n",
       "      <td>26</td>\n",
       "    </tr>\n",
       "    <tr>\n",
       "      <th>3</th>\n",
       "      <td>All-American Anarchist: Joseph A. Labadie and ...</td>\n",
       "      <td>Carlotta R. Anderson</td>\n",
       "      <td>Hardcover</td>\n",
       "      <td>Labor,History</td>\n",
       "      <td>324</td>\n",
       "      <td>3.83</td>\n",
       "      <td>1</td>\n",
       "      <td>6</td>\n",
       "    </tr>\n",
       "    <tr>\n",
       "      <th>4</th>\n",
       "      <td>Les oiseaux gourmands</td>\n",
       "      <td>Jean Leveille</td>\n",
       "      <td>NaN</td>\n",
       "      <td>NaN</td>\n",
       "      <td>177</td>\n",
       "      <td>4.00</td>\n",
       "      <td>1</td>\n",
       "      <td>1</td>\n",
       "    </tr>\n",
       "  </tbody>\n",
       "</table>\n",
       "</div>"
      ],
      "text/plain": [
       "                                               title  \\\n",
       "0  Between Two Fires: American Indians in the Civ...   \n",
       "1                           Fashion Sourcebook 1920s   \n",
       "2                                         Hungary 56   \n",
       "3  All-American Anarchist: Joseph A. Labadie and ...   \n",
       "4                              Les oiseaux gourmands   \n",
       "\n",
       "                             author bookformat  \\\n",
       "0              Laurence M. Hauptman  Hardcover   \n",
       "1  Charlotte Fiell,Emmanuelle Dirix  Paperback   \n",
       "2                     Andy Anderson  Paperback   \n",
       "3              Carlotta R. Anderson  Hardcover   \n",
       "4                     Jean Leveille        NaN   \n",
       "\n",
       "                                               genre  pages  rating  reviews  \\\n",
       "0  History,Military History,Civil War,American Hi...      0    3.52        5   \n",
       "1          Couture,Fashion,Historical,Art,Nonfiction    576    4.51        6   \n",
       "2                                   Politics,History    124    4.15        2   \n",
       "3                                      Labor,History    324    3.83        1   \n",
       "4                                                NaN    177    4.00        1   \n",
       "\n",
       "   totalratings  \n",
       "0            33  \n",
       "1            41  \n",
       "2            26  \n",
       "3             6  \n",
       "4             1  "
      ]
     },
     "execution_count": 2,
     "metadata": {},
     "output_type": "execute_result"
    }
   ],
   "source": [
    "lista_colunas = ['title', 'author', 'bookformat', 'genre', 'pages', 'rating', 'reviews', 'totalratings']\n",
    "\n",
    "livros = livros[lista_colunas]\n",
    "livros.head()"
   ]
  },
  {
   "cell_type": "markdown",
   "metadata": {},
   "source": [
    "Ordenando os livros com base em seu `totalratings` (isto é, na quantidade total de avaliações publicadas) e visualizando as primeiras linhas da tabela, podemos perceber que utilizar essa coluna como forma de mensurar a popularidade de um livro pode ser uma boa ideia, uma vez que os títulos com maior quantidade de avaliações são amplamente conhecidos."
   ]
  },
  {
   "cell_type": "code",
   "execution_count": 5,
   "metadata": {},
   "outputs": [
    {
     "data": {
      "text/html": [
       "<div>\n",
       "<style scoped>\n",
       "    .dataframe tbody tr th:only-of-type {\n",
       "        vertical-align: middle;\n",
       "    }\n",
       "\n",
       "    .dataframe tbody tr th {\n",
       "        vertical-align: top;\n",
       "    }\n",
       "\n",
       "    .dataframe thead th {\n",
       "        text-align: right;\n",
       "    }\n",
       "</style>\n",
       "<table border=\"1\" class=\"dataframe\">\n",
       "  <thead>\n",
       "    <tr style=\"text-align: right;\">\n",
       "      <th></th>\n",
       "      <th>title</th>\n",
       "      <th>author</th>\n",
       "      <th>bookformat</th>\n",
       "      <th>genre</th>\n",
       "      <th>pages</th>\n",
       "      <th>rating</th>\n",
       "      <th>reviews</th>\n",
       "      <th>totalratings</th>\n",
       "    </tr>\n",
       "  </thead>\n",
       "  <tbody>\n",
       "    <tr>\n",
       "      <th>27180</th>\n",
       "      <td>The Fault in Our Stars</td>\n",
       "      <td>John Green</td>\n",
       "      <td>Hardcover</td>\n",
       "      <td>Young Adult,Romance,Fiction,Contemporary,Reali...</td>\n",
       "      <td>313</td>\n",
       "      <td>4.19</td>\n",
       "      <td>158776</td>\n",
       "      <td>3819326</td>\n",
       "    </tr>\n",
       "    <tr>\n",
       "      <th>49695</th>\n",
       "      <td>Divergent</td>\n",
       "      <td>Veronica Roth</td>\n",
       "      <td>Paperback</td>\n",
       "      <td>Young Adult,Science Fiction,Dystopia,Fiction,F...</td>\n",
       "      <td>487</td>\n",
       "      <td>4.18</td>\n",
       "      <td>110042</td>\n",
       "      <td>3099689</td>\n",
       "    </tr>\n",
       "    <tr>\n",
       "      <th>57742</th>\n",
       "      <td>Harry Potter and the Deathly Hallows</td>\n",
       "      <td>J.K. Rowling</td>\n",
       "      <td>Hardcover</td>\n",
       "      <td>Fantasy,Young Adult,Fiction,Fantasy,Magic,Chil...</td>\n",
       "      <td>759</td>\n",
       "      <td>4.62</td>\n",
       "      <td>68974</td>\n",
       "      <td>2984351</td>\n",
       "    </tr>\n",
       "    <tr>\n",
       "      <th>94942</th>\n",
       "      <td>Animal Farm</td>\n",
       "      <td>George Orwell,Russell Baker,C.M. Woodhouse</td>\n",
       "      <td>Mass Market Paperback</td>\n",
       "      <td>Classics,Fiction,Science Fiction,Dystopia,Fant...</td>\n",
       "      <td>141</td>\n",
       "      <td>3.96</td>\n",
       "      <td>61970</td>\n",
       "      <td>2938072</td>\n",
       "    </tr>\n",
       "    <tr>\n",
       "      <th>81236</th>\n",
       "      <td>Harry Potter and the Chamber of Secrets</td>\n",
       "      <td>J.K. Rowling,Mary GrandPrÃ©</td>\n",
       "      <td>Hardcover</td>\n",
       "      <td>Fantasy,Young Adult,Fiction,Fantasy,Magic,Chil...</td>\n",
       "      <td>341</td>\n",
       "      <td>4.43</td>\n",
       "      <td>57146</td>\n",
       "      <td>2934616</td>\n",
       "    </tr>\n",
       "  </tbody>\n",
       "</table>\n",
       "</div>"
      ],
      "text/plain": [
       "                                         title  \\\n",
       "27180                   The Fault in Our Stars   \n",
       "49695                                Divergent   \n",
       "57742     Harry Potter and the Deathly Hallows   \n",
       "94942                              Animal Farm   \n",
       "81236  Harry Potter and the Chamber of Secrets   \n",
       "\n",
       "                                           author             bookformat  \\\n",
       "27180                                  John Green              Hardcover   \n",
       "49695                               Veronica Roth              Paperback   \n",
       "57742                                J.K. Rowling              Hardcover   \n",
       "94942  George Orwell,Russell Baker,C.M. Woodhouse  Mass Market Paperback   \n",
       "81236                 J.K. Rowling,Mary GrandPrÃ©              Hardcover   \n",
       "\n",
       "                                                   genre  pages  rating  \\\n",
       "27180  Young Adult,Romance,Fiction,Contemporary,Reali...    313    4.19   \n",
       "49695  Young Adult,Science Fiction,Dystopia,Fiction,F...    487    4.18   \n",
       "57742  Fantasy,Young Adult,Fiction,Fantasy,Magic,Chil...    759    4.62   \n",
       "94942  Classics,Fiction,Science Fiction,Dystopia,Fant...    141    3.96   \n",
       "81236  Fantasy,Young Adult,Fiction,Fantasy,Magic,Chil...    341    4.43   \n",
       "\n",
       "       reviews  totalratings  \n",
       "27180   158776       3819326  \n",
       "49695   110042       3099689  \n",
       "57742    68974       2984351  \n",
       "94942    61970       2938072  \n",
       "81236    57146       2934616  "
      ]
     },
     "execution_count": 5,
     "metadata": {},
     "output_type": "execute_result"
    }
   ],
   "source": [
    "livros.sort_values(by=\"totalratings\", ascending=False).head()"
   ]
  },
  {
   "cell_type": "markdown",
   "metadata": {},
   "source": [
    "Buscando entender suas principais características:"
   ]
  },
  {
   "cell_type": "code",
   "execution_count": 18,
   "metadata": {},
   "outputs": [
    {
     "data": {
      "text/plain": [
       "Text(-2.6999999999999957, 0.5, 'Quantidade de páginas')"
      ]
     },
     "execution_count": 18,
     "metadata": {},
     "output_type": "execute_result"
    },
    {
     "data": {
      "image/png": "[encoded data removed]",
      "text/plain": [
       "<Figure size 504x504 with 1 Axes>"
      ]
     },
     "metadata": {
      "needs_background": "light"
     },
     "output_type": "display_data"
    }
   ],
   "source": [
    "livros2 = livros[livros['pages'] <1000] #filtrando os valores extremos \n",
    "livros2 = livros2[livros2['pages'] != 0] # filtrando valores nulos\n",
    "sns.FacetGrid(livros2, height=7).map(plt.scatter, \"totalratings\", \"pages\")\n",
    "plt.title (\"Páginas e popularidade\", fontsize=14)\n",
    "plt.xlabel (\"Total de avaliações (popularidade)\")\n",
    "plt.ylabel (\"Quantidade de páginas\")"
   ]
  },
  {
   "cell_type": "code",
   "execution_count": 19,
   "metadata": {},
   "outputs": [
    {
     "data": {
      "text/plain": [
       "Text(-9.074999999999996, 0.5, 'Quantidade de páginas')"
      ]
     },
     "execution_count": 19,
     "metadata": {},
     "output_type": "execute_result"
    },
    {
     "data": {
      "image/png": "[encoded data removed]",
      "text/plain": [
       "<Figure size 504x504 with 1 Axes>"
      ]
     },
     "metadata": {
      "needs_background": "light"
     },
     "output_type": "display_data"
    }
   ],
   "source": [
    "sns.FacetGrid(livros, height=7).map(plt.scatter, \"totalratings\", \"pages\")\n",
    "plt.title (\"Páginas e popularidade (com outliers)\", fontsize=14)\n",
    "plt.xlabel (\"Total de avaliações (popularidade)\")\n",
    "plt.ylabel (\"Quantidade de páginas\")"
   ]
  },
  {
   "cell_type": "markdown",
   "metadata": {},
   "source": [
    "Parece não haver tanta relação entre a quantidade de páginas e a popularidade de um livro, exceto que livros com quantidades exepcionalmente grandes de páginas não costumam ter muita popularidade. É possível que esses outliers sejam, na realidade, erros de digitação ou algum outro problema na coleta dos dados."
   ]
  },
  {
   "cell_type": "code",
   "execution_count": null,
   "metadata": {},
   "outputs": [],
   "source": []
  }
 ],
 "metadata": {
  "kernelspec": {
   "display_name": "Python 3",
   "language": "python",
   "name": "python3"
  },
  "language_info": {
   "codemirror_mode": {
    "name": "ipython",
    "version": 3
   },
   "file_extension": ".py",
   "mimetype": "text/x-python",
   "name": "python",
   "nbconvert_exporter": "python",
   "pygments_lexer": "ipython3",
   "version": "3.7.6"
  }
 },
 "nbformat": 4,
 "nbformat_minor": 4
}
